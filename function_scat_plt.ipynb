{
 "cells": [
  {
   "cell_type": "code",
   "execution_count": 1,
   "id": "5e44f3a7",
   "metadata": {},
   "outputs": [],
   "source": [
    "import nbimporter\n",
    "import pandas as pd\n",
    "import matplotlib.pyplot as plt\n",
    "\n",
    "def scat_plt(var1, var2, groups):\n",
    "    unique_groups = set(groups)\n",
    "    colors = plt.cm.rainbow([i/len(unique_groups) for i in range(len(unique_groups))])\n",
    "\n",
    "    fig, ax = plt.subplots()\n",
    "\n",
    "    for group, color in zip(unique_groups, colors):\n",
    "        group_indices = groups == group\n",
    "        ax.scatter(var1[group_indices], var2[group_indices], label=f'Group {group}', color=color)\n",
    "\n",
    "    ax.set_xlabel(var1.name)\n",
    "    ax.set_ylabel(var2.name)\n",
    "    ax.legend()\n",
    "\n",
    "    plt.show()\n"
   ]
  }
 ],
 "metadata": {
  "kernelspec": {
   "display_name": "Python 3 (ipykernel)",
   "language": "python",
   "name": "python3"
  },
  "language_info": {
   "codemirror_mode": {
    "name": "ipython",
    "version": 3
   },
   "file_extension": ".py",
   "mimetype": "text/x-python",
   "name": "python",
   "nbconvert_exporter": "python",
   "pygments_lexer": "ipython3",
   "version": "3.11.5"
  }
 },
 "nbformat": 4,
 "nbformat_minor": 5
}
