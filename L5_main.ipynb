{
 "cells": [
  {
   "cell_type": "markdown",
   "id": "86a02784-4c99-4bd1-b721-7e2176e20e4e",
   "metadata": {},
   "source": [
    "### **Rename vars**"
   ]
  },
  {
   "cell_type": "code",
   "execution_count": null,
   "id": "dd7a022a-1dc5-4f98-b826-da790d24436a",
   "metadata": {},
   "outputs": [],
   "source": [
    "import pandas as pd\n",
    "import numpy as np\n",
    "try:\n",
    "    from scipy.stats import f_oneway\n",
    "except ImportError:\n",
    "    !pip install scipy\n",
    "    from scipy.stats import f_oneway\n",
    "\n",
    "#trying functions such as renamevars with this dict\n",
    "\n",
    "dict_names = {'MDVP:Fo(Hz)':'avFF',\n",
    "              'MDVP:Fhi(Hz)':'maxFF', \n",
    "              'MDVP:Flo(Hz)':'minFF',\n",
    "              'MDVP:Jitter(%)': 'percJitter',\n",
    "              'MDVP:Jitter(Abs)':'absJitter' ,\n",
    "              'MDVP:RAP': 'rap',\n",
    "              'MDVP:PPQ': 'ppq',\n",
    "              'Jitter:DDP': 'ddp',\n",
    "              'MDVP:Shimmer' : 'lShimer',\n",
    "              'MDVP:Shimmer(dB)': 'dbShimer',\n",
    "              'Shimmer:APQ3':'apq3',\n",
    "              'Shimmer:APQ5': 'apq5',\n",
    "              'MDVP:APQ':'apq',\n",
    "              'Shimmer:DDA':'dda'}\n",
    "\n",
    "#example\n",
    "\n",
    "df = pd.read_csv('parkinsons.data', \n",
    "                 dtype = { # indicate categorical variables\n",
    "                     'status': 'category'})\n",
    "df.head(5)\n",
    "\n",
    "#renamevars(df, dict_names)"
   ]
  },
  {
   "cell_type": "markdown",
   "id": "07c41908-8109-4772-8bb2-c79ed3021041",
   "metadata": {},
   "source": [
    "### **Summarize cleaned data**"
   ]
  },
  {
   "cell_type": "code",
   "execution_count": null,
   "id": "a9aa9eac-c2c7-4da9-aca9-b09ecf58b5d2",
   "metadata": {},
   "outputs": [],
   "source": [
    "annotation_result = anotate_stats(cleaned_df)\n",
    "annotation_result"
   ]
  },
  {
   "cell_type": "code",
   "execution_count": null,
   "id": "81eed602-4325-44c2-8faa-e6fbfe4f7ddd",
   "metadata": {},
   "outputs": [],
   "source": [
    "#anotate_stats(df)"
   ]
  },
  {
   "cell_type": "markdown",
   "id": "b0061a07-134b-4389-897e-f90df6543d88",
   "metadata": {},
   "source": [
    "### **Grouping and averaging**"
   ]
  },
  {
   "cell_type": "code",
   "execution_count": null,
   "id": "154af3ba-3795-47f6-94f9-e7d3bc388ec7",
   "metadata": {},
   "outputs": [],
   "source": [
    "cleaned_aggregated_df =  group_and_average(cleaned_df, gv='subject_id')\n",
    "cleaned_aggregated_df"
   ]
  }
 ],
 "metadata": {
  "kernelspec": {
   "display_name": "Python 3 (ipykernel)",
   "language": "python",
   "name": "python3"
  },
  "language_info": {
   "codemirror_mode": {
    "name": "ipython",
    "version": 3
   },
   "file_extension": ".py",
   "mimetype": "text/x-python",
   "name": "python",
   "nbconvert_exporter": "python",
   "pygments_lexer": "ipython3",
   "version": "3.11.3"
  }
 },
 "nbformat": 4,
 "nbformat_minor": 5
}
