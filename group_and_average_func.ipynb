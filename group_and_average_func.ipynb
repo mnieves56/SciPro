{
 "cells": [
  {
   "cell_type": "code",
   "execution_count": 5,
   "metadata": {},
   "outputs": [],
   "source": [
    "import pandas as pd\n",
    "def group_and_average(df, gv):\n",
    "    # Convert categorical columns to numeric codes\n",
    "    for col in df.select_dtypes(include='category'):\n",
    "        df.loc[:, col] = pd.Categorical(df[col])\n",
    "        df.loc[:, col] = df[col].cat.codes\n",
    "    # Exclude the 'trial' column\n",
    "    df = df.drop('trial', axis=1)\n",
    "    av_df = df.groupby(gv, as_index=False).mean()\n",
    "    # Convert back categorical columns to original type\n",
    "    for col in df.select_dtypes(include='category'):\n",
    "        df.loc[:, col] = pd.Categorical.from_codes(df[col], categories=df[col].cat.categories)\n",
    "    return av_df"
   ]
  }
 ],
 "metadata": {
  "kernelspec": {
   "display_name": "base",
   "language": "python",
   "name": "python3"
  },
  "language_info": {
   "codemirror_mode": {
    "name": "ipython",
    "version": 3
   },
   "file_extension": ".py",
   "mimetype": "text/x-python",
   "name": "python",
   "nbconvert_exporter": "python",
   "pygments_lexer": "ipython3",
   "version": "3.11.5"
  }
 },
 "nbformat": 4,
 "nbformat_minor": 2
}
