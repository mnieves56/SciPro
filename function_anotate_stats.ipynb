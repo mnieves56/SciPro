{
 "cells": [
  {
   "cell_type": "code",
   "execution_count": null,
   "id": "cae14fd0-0b87-46d8-b77a-b9b27a0a56b4",
   "metadata": {},
   "outputs": [],
   "source": [
    "def anotate_stats(df):\n",
    "    \n",
    "    import pandas as pd\n",
    "    import numpy as np\n",
    "    try:\n",
    "        from scipy.stats import f_oneway\n",
    "    except ImportError:\n",
    "        !pip install scipy\n",
    "        from scipy.stats import f_oneway\n",
    "    \n",
    "    ill = df[df['status'] == '1']\n",
    "    not_ill = df[df['status'] == '0']\n",
    "    summary_ill = ill.describe()\n",
    "    summary_not_ill = not_ill.describe()\n",
    "    oldnames = summary_ill.index.values.tolist()\n",
    "    park = dict(zip(oldnames,[item + \" (pd)\" for i, item in enumerate(oldnames.copy())]))\n",
    "    nopark = dict(zip(oldnames,[item + \" (npd)\" for i, item in enumerate(oldnames.copy())]))\n",
    "    junt = pd.concat([renamevars(summary_ill.transpose(),park),renamevars(summary_not_ill.transpose(),nopark)], axis=1)\n",
    "    junt = junt[['count (pd)', 'count (npd)','mean (pd)', 'mean (npd)','std (pd)', 'std (npd)','min (pd)', 'min (npd)','25% (pd)', '25% (npd)','50% (pd)', '50% (npd)','75% (pd)', '75% (npd)','max (pd)', 'max (npd)']]\n",
    "    s, pval = f_oneway(junt['std (pd)'],junt['std (npd)'])\n",
    "    \n",
    "    def outlier_counter(df):\n",
    "\n",
    "        cols = df.columns.difference(['name','status'])\n",
    "        df = df[cols] #remove non numerial cols\n",
    "        Q1 = df.quantile(0.25)\n",
    "        Q3 = df.quantile(0.75)\n",
    "        IQR = Q3-Q1\n",
    "        return ((df < (Q1-1.5*IQR))|(df > (Q3+1.5*IQR))).sum()\n",
    "        \n",
    "    print(f\"The total number of observations in this DataFrame is: {len(df)}\"+\"\\n\")\n",
    "    print(\"There are apparent differences for some statistics in some variables, as can be seen in the table below:\"+\"\\n\")\n",
    "    print(junt) #print the df\n",
    "    print(\"\\n\"+ f\"Variances are comparable between groups, as the p-value resulting from the F-test for equality of variances is greater than the significance level ({round(pval,2)} >> 0.05)\"+\"\\n\")\n",
    "    print(\"Regarding outliers, no outliers are detected using the min and max values, as that those values represent the highest and lowest values of all the observations in all the columns. However, outlier detection methods can be used. One common approximation sets thresholds 1.5 times the IQR above and below each Q3 and Q1 pair (respectively).\"+\"\\n\")\n",
    "    print(f\"The outlier count in the Parkinson's group for each column is: \\n \\n{outlier_counter(ill)}. \\n \\n In total: {sum(outlier_counter(ill))} outliers. \\n \\n\")\n",
    "    print(f\"The outlier count in the non-Parkinson's group for each column is: \\n \\n{outlier_counter(not_ill)} \\n \\n In total: {sum(outlier_counter(not_ill))} outliers. \\n \\n\")\n",
    "    print(f\"A larger outlier count is found in the Parkinson's group. It makes sense as Parkinson's observation count is {junt['count (pd)'].HNR} and Non-Parkinson's {junt['count (npd)'].HNR}. As observation counts are unbalanced between groups, it would not be wise to remove the outliers, especially for the Non-Parkinson's group. Because valuable information could be lost, all the outliers are kept.\")\n"
   ]
  }
 ],
 "metadata": {
  "kernelspec": {
   "display_name": "Python 3 (ipykernel)",
   "language": "python",
   "name": "python3"
  },
  "language_info": {
   "codemirror_mode": {
    "name": "ipython",
    "version": 3
   },
   "file_extension": ".py",
   "mimetype": "text/x-python",
   "name": "python",
   "nbconvert_exporter": "python",
   "pygments_lexer": "ipython3",
   "version": "3.11.3"
  }
 },
 "nbformat": 4,
 "nbformat_minor": 5
}
