{
 "cells": [
  {
   "cell_type": "code",
   "execution_count": 1,
   "id": "08b4c4bb",
   "metadata": {},
   "outputs": [],
   "source": [
    "from sklearn.preprocessing import StandardScaler, MinMaxScaler\n",
    "\n",
    "def normalize(df, op):\n",
    "    # Copy the original DataFrame\n",
    "    norm_df = df.copy()\n",
    "\n",
    "    # Identify numeric columns for normalization\n",
    "    numeric_columns = norm_df.select_dtypes(include=['float64', 'int64']).columns\n",
    "\n",
    "    # Check if there are any numeric columns for normalization\n",
    "    if len(numeric_columns) == 0:\n",
    "        print(\"No numeric columns found for normalization.\")\n",
    "        return norm_df\n",
    "\n",
    "    # Avoid normalizing columns that are supposed to be categorical\n",
    "    categorical_columns = norm_df.select_dtypes(include='category').columns\n",
    "    numeric_columns = [col for col in numeric_columns if col not in categorical_columns]\n",
    "\n",
    "    # Check if there are any numeric columns left for normalization\n",
    "    if len(numeric_columns) == 0:\n",
    "        print(\"No numeric columns found for normalization after excluding categorical columns.\")\n",
    "        return norm_df\n",
    "\n",
    "    if op == 0:  # Z-score normalization\n",
    "        norm_df[numeric_columns] = StandardScaler().fit_transform(norm_df[numeric_columns])\n",
    "    elif op == 1:  # Min-Max normalization\n",
    "        norm_df[numeric_columns] = MinMaxScaler().fit_transform(norm_df[numeric_columns])\n",
    "    else:\n",
    "        print(\"Invalid option. Please use 0 for z-score normalization or 1 for min-max normalization.\")\n",
    "        return norm_df\n",
    "\n",
    "    return norm_df"
   ]
  },
  {
   "cell_type": "code",
   "execution_count": null,
   "id": "16fc48af",
   "metadata": {},
   "outputs": [],
   "source": []
  }
 ],
 "metadata": {
  "kernelspec": {
   "display_name": "Python 3 (ipykernel)",
   "language": "python",
   "name": "python3"
  },
  "language_info": {
   "codemirror_mode": {
    "name": "ipython",
    "version": 3
   },
   "file_extension": ".py",
   "mimetype": "text/x-python",
   "name": "python",
   "nbconvert_exporter": "python",
   "pygments_lexer": "ipython3",
   "version": "3.11.5"
  }
 },
 "nbformat": 4,
 "nbformat_minor": 5
}
