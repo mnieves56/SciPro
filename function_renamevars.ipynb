{
 "cells": [
  {
   "cell_type": "code",
   "execution_count": null,
   "id": "379abebf-41b2-4bec-892b-6ef4f4ff35a4",
   "metadata": {},
   "outputs": [],
   "source": [
    "def renamevars(df, dict_names):\n",
    "\n",
    "    import pandas as pd\n",
    "    renamed_df = df.rename(columns = dict_names)\n",
    "    return renamed_df"
   ]
  }
 ],
 "metadata": {
  "kernelspec": {
   "display_name": "Python 3 (ipykernel)",
   "language": "python",
   "name": "python3"
  },
  "language_info": {
   "codemirror_mode": {
    "name": "ipython",
    "version": 3
   },
   "file_extension": ".py",
   "mimetype": "text/x-python",
   "name": "python",
   "nbconvert_exporter": "python",
   "pygments_lexer": "ipython3",
   "version": "3.11.3"
  }
 },
 "nbformat": 4,
 "nbformat_minor": 5
}
